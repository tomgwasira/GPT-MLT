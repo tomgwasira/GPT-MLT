{
 "cells": [
  {
   "cell_type": "code",
   "execution_count": 1,
   "metadata": {},
   "outputs": [],
   "source": [
    "import numpy as np\n",
    "import matplotlib.pyplot as plt"
   ]
  },
  {
   "cell_type": "code",
   "execution_count": 36,
   "metadata": {},
   "outputs": [],
   "source": [
    "def simulateSignal(f0, A0, fmod, Amod, tlen, fadc):\n",
    "    ''' \n",
    "    Simulate a signal with the following paramters\n",
    "    f0: fundamental frequency\n",
    "    A0: amplitude of fundamental frequency \n",
    "    fmod: frequency of amplitude modulation\n",
    "    Amod: amplitude of modulating signal\n",
    "    tlen: time duration of signal (measurement)\n",
    "    fadc: sampling rate of adc\n",
    "    \n",
    "    Signal has third and fifth harmonics of amplitude 1/10 and 1/15 of the fundamental frequency amplitude respectively.\n",
    "    '''\n",
    "    \n",
    "    t = np.linspace(0,tlen,int(fadc*tlen)) # generate time axis for signal\n",
    "    \n",
    "    vmod = (A0 + Amod*np.sin(2*np.pi*fmod*t)) # generate modulating waveform\n",
    "    v = np.sin(2*np.pi*f0*t) + (1/10)*np.sin(2*np.pi*3*f0*t) + (1/15)*np.sin(2*np.pi*5*f0*t) # create signal with harmonics\n",
    "    v = (v*vmod) # modulate signal\n",
    "    v = v + np.random.normal(0,0.2,int(fadc*tlen)) # add noise\n",
    "    \n",
    "    return v"
   ]
  },
  {
   "cell_type": "code",
   "execution_count": 39,
   "metadata": {},
   "outputs": [],
   "source": [
    "# --------------------------------------------------------\n",
    "# DATASET SIMULATION\n",
    "# --------------------------------------------------------\n",
    "\n",
    "f0 = 50                                             # fundametal frequency [Hz]\n",
    "fadc = 9765.625                                     # sampling frequency of ADC\n",
    "tlen = 5                                            # duration of measurement interval\n",
    "trunc = 10000                                       # truncation of plot\n",
    "\n",
    "v1 = simulateSignal(f0, 230, 10, 0.05, tlen, fadc)  # line 1 voltage\n",
    "v2 = simulateSignal(f0, 235, 10, 0.05, tlen, fadc)  # line 2 voltage\n",
    "v3 = simulateSignal(f0, 50, 10, 0.05, tlen, fadc)   # line 3 voltage\n",
    "v4 = simulateSignal(f0, 20, 10, 0.05, tlen, fadc)   # line 4 voltage\n",
    "\n",
    "i1 = simulateSignal(f0, 2, 10, 0.05, tlen, fadc)    # line 1 current\n",
    "i2 = simulateSignal(f0, 0.5, 10, 0.05, tlen, fadc)  # line 2 current\n",
    "i3 = simulateSignal(f0, 0.88, 10, 0.05, tlen, fadc) # line 3 current\n",
    "i4 = simulateSignal(f0, 0.6, 10, 0.05, tlen, fadc)  # line 4 current\n",
    "\n",
    "r1 = 500                                            # line 1 resistance\n",
    "r2 = 1000                                           # line 2 resistance\n",
    "r3 = 5000                                           # line 3 resistance\n",
    "r4 = 2000                                           # line 4 resistance"
   ]
  },
  {
   "cell_type": "code",
   "execution_count": null,
   "metadata": {},
   "outputs": [],
   "source": [
    "# --------------------------------------------------------\n",
    "# INPUT MATRIX SETUP\n",
    "# --------------------------------------------------------\n",
    "# FFT\n",
    "# Window function\n",
    "\n",
    "\n",
    "\n",
    "\n",
    "\n",
    "V1 = np.fft.fft(v1)\n",
    "freq = np.fft.fftfreq(len(t), 1/fadc)\n",
    "plt.plot(freq[:trunc], abs(V1)[:trunc])"
   ]
  }
 ],
 "metadata": {
  "kernelspec": {
   "display_name": "Python 3",
   "language": "python",
   "name": "python3"
  },
  "language_info": {
   "codemirror_mode": {
    "name": "ipython",
    "version": 3
   },
   "file_extension": ".py",
   "mimetype": "text/x-python",
   "name": "python",
   "nbconvert_exporter": "python",
   "pygments_lexer": "ipython3",
   "version": "3.7.6"
  }
 },
 "nbformat": 4,
 "nbformat_minor": 4
}
